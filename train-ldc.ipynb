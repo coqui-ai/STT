import os
import sys

import pandas
from STT.training.coqui_stt_training.util.downloader import maybe_download
#from STT.bin.import_ldc93s1 import _download_and_preprocess_data as download_data

#download_data('/home/STT/data')

def download_and_preprocess_data(data_dir):
    # Conditionally download data
    LDC93S1_BASE = "LDC93S1"
    LDC93S1_BASE_URL = "https://catalog.ldc.upenn.edu/desc/addenda/"
    local_file = maybe_download(
        LDC93S1_BASE + ".wav", data_dir, LDC93S1_BASE_URL + LDC93S1_BASE + ".wav"
    )
    trans_file = maybe_download(
        LDC93S1_BASE + ".txt", data_dir, LDC93S1_BASE_URL + LDC93S1_BASE + ".txt"
    )
    with open(trans_file, "r") as fin:
        transcript = " ".join(fin.read().strip().lower().split(" ")[2:]).replace(
            ".", ""
        )

    df = pandas.DataFrame(
        data=[(os.path.abspath(local_file), os.path.getsize(local_file), transcript)],
        columns=["wav_filename", "wav_filesize", "transcript"],
    )
    df.to_csv(os.path.join(data_dir, "ldc93s1.csv"), index=False)

download_and_preprocess_data('/home/STT/data')


from STT.training.coqui_stt_training.train import train, early_training_checks
from STT.training.coqui_stt_training.util.config import initialize_globals

#Config.train_files=['/home/STT/data/ldc.csv']
#Config.dev_files=['/home/STT/data/ldc.csv']
#Config.test_files=['/home/STT/data/ldc.csv']

#Config.alphabet_config_path='/home/STT/data/alphabet.txt'
initialize_globals()

early_training_checks()

train()
